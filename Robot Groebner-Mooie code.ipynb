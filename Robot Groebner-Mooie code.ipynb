{
 "cells": [
  {
   "cell_type": "code",
   "execution_count": 22,
   "metadata": {},
   "outputs": [
    {
     "name": "stdout",
     "output_type": "stream",
     "text": [
      "If a=0 the Groebner basis is equal to\n",
      "c1 + c3*c + s3*s + l4*c - b\n",
      " \n",
      "s1 + c3*s - s3*c + l4*s\n",
      " \n",
      "c2 - 0.500000000000000*l4^2 + l4*b*c - 0.500000000000000*b^2 + 1.00000000000000\n",
      " \n",
      "s2 - c3*b*s - s3*l4 + s3*b*c\n",
      " \n",
      "c3^2 + s3^2 - 1.00000000000000\n",
      " \n",
      "c3*s3*b*s - 0.500000000000000*c3*b^2*s^2 + s3^2*l4 - s3^2*b*c - 0.500000000000000*s3*l4*b*s + 0.500000000000000*s3*b^2*c*s + 0.250000000000000*l4^3 - 0.750000000000000*l4^2*b*c - 0.500000000000000*l4*b^2*s^2 + 0.750000000000000*l4*b^2 - l4 - 0.250000000000000*b^3*c + b*c\n",
      " \n",
      "c3*l4 - c3*b*c - s3*b*s + 0.500000000000000*l4^2 - l4*b*c + 0.500000000000000*b^2\n",
      " \n",
      "s3^2*l4^2 - 2.00000000000000*s3^2*l4*b*c + s3^2*b^2 - s3*l4^2*b*s + 2.00000000000000*s3*l4*b^2*c*s - s3*b^3*s + 0.250000000000000*l4^4 - l4^3*b*c - l4^2*b^2*s^2 + 1.50000000000000*l4^2*b^2 - l4^2 - l4*b^3*c + 2.00000000000000*l4*b*c + 0.250000000000000*b^4 + b^2*s^2 - b^2\n",
      " \n",
      "c^2 + s^2 - 1.00000000000000\n",
      " \n"
     ]
    },
    {
     "data": {
      "text/plain": [
       "s3^2*l4^2 - 2.00000000000000*s3^2*l4*b*c + s3^2*b^2 - s3*l4^2*b*s + 2.00000000000000*s3*l4*b^2*c*s - s3*b^3*s + 0.250000000000000*l4^4 - l4^3*b*c - l4^2*b^2*s^2 + 1.50000000000000*l4^2*b^2 - l4^2 - l4*b^3*c + 2.00000000000000*l4*b*c + 0.250000000000000*b^4 + b^2*s^2 - b^2"
      ]
     },
     "execution_count": 22,
     "metadata": {},
     "output_type": "execute_result"
    }
   ],
   "source": [
    "#Determine the Groebner basis if we assume a=0\n",
    "R.<c1,s1,c2,s2,c3,s3,l4,b,c,s> = PolynomialRing(RR, order = 'lex')\n",
    "# s is sine of theta\n",
    "# c is cosine of theta\n",
    "# b is vertical y-coordinate given a=0\n",
    "\n",
    "J = ideal(c1*c2*c3-s1*s2*c3-s1*c2*s3-c1*s2*s3-c,\\\n",
    "          s1*c2*c3+c1*s2*c3+c1*c2*s3-s1*s2*s3-s,\\\n",
    "          c1^2+s1^2-1, c2^2+s2^2-1, c3^2+s3^2-1,\\\n",
    "          l4*(s1*c2*c3+c1*s2*c3+c1*c2*s3-s1*s2*s3)+c1*s2+s1*c2+s1,\\\n",
    "          l4*(c1*c2*c3-c1*s2*s3-s1*c2*s3-s1*s2*c3)+c1*c2-s1*s2+c1-b)\n",
    "       \n",
    "C = J.groebner_basis()\n",
    "print(\"If a=0 the Groebner basis is equal to\")\n",
    "for x in C:\n",
    "    print(x)\n",
    "    print(\" \")"
   ]
  },
  {
   "cell_type": "code",
   "execution_count": 28,
   "metadata": {},
   "outputs": [
    {
     "data": {
      "text/plain": [
       "0"
      ]
     },
     "execution_count": 28,
     "metadata": {},
     "output_type": "execute_result"
    }
   ],
   "source": [
    "#Express c2^2+s2^2=1 as a combination of polynomials in our Groebner Basis\n",
    "x = C[5]\n",
    "y = C[6]\n",
    "z = C[7]\n",
    "\n",
    "R.<c1,s1,c3,s3,l4,a,b,c,s> = PolynomialRing(RR, order = 'lex')\n",
    "c2 = 0.5*l4^2-l4*b*c+0.5*b^2-1\n",
    "s2 = c3*b*s+s3*l4-s3*b*c\n",
    "\n",
    "(c2^2 +s2^2-1)-(c3^2+s3^2-1)*b^2*s^2+x*(-2*l4+2*b*c)-y*(b^2*s^2)+z+(c^2+s^2-1)*(s3^2*b^2-s3*b^3*s+0.5*l4^2*b^2+0.5*b^4-2*b^2)\n"
   ]
  },
  {
   "cell_type": "code",
   "execution_count": 26,
   "metadata": {},
   "outputs": [
    {
     "data": {
      "text/plain": [
       "0"
      ]
     },
     "execution_count": 26,
     "metadata": {},
     "output_type": "execute_result"
    }
   ],
   "source": [
    "#Express c1^2+s2^1=1 as a combination of polynomials in our Groebner Basis\n",
    "R.<c1,s1,c2,s2,c3,s3,l4,a,b,c,s> = PolynomialRing(RR, order = 'lex')\n",
    "c1 = -c3*c-s3*s-l4*c+b\n",
    "s1 = -c3*s+s3*c-l4*s\n",
    "\n",
    "(c1^2+s1^2-1)-(c^2+s^2)*(c3^2+s3^2-1)-(c^2+s^2-1)*(2*c3*l4+l4^2+1)-2*y"
   ]
  },
  {
   "cell_type": "code",
   "execution_count": 41,
   "metadata": {},
   "outputs": [
    {
     "data": {
      "text/plain": [
       "-l4^6 + 6.00000000000000*l4^5*b*c - 8.00000000000000*l4^4*b^2*c^2 + 5.00000000000000*l4^4*b^2*s^2 - 7.00000000000000*l4^4*b^2 + 4.00000000000000*l4^4 - 12.0000000000000*l4^3*b^3*c*s^2 + 20.0000000000000*l4^3*b^3*c - 16.0000000000000*l4^3*b*c + 4.00000000000000*l4^2*b^4*c^2*s^2 - 8.00000000000000*l4^2*b^4*c^2 + 6.00000000000000*l4^2*b^4*s^2 - 7.00000000000000*l4^2*b^4 + 16.0000000000000*l4^2*b^2*c^2 - 4.00000000000000*l4^2*b^2*s^2 + 8.00000000000000*l4^2*b^2 - 4.00000000000000*l4*b^5*c*s^2 + 6.00000000000000*l4*b^5*c + 8.00000000000000*l4*b^3*c*s^2 - 16.0000000000000*l4*b^3*c + b^6*s^2 - b^6 - 4.00000000000000*b^4*s^2 + 4.00000000000000*b^4"
      ]
     },
     "execution_count": 41,
     "metadata": {},
     "output_type": "execute_result"
    }
   ],
   "source": [
    "#Determine the Discriminant of the last polynomial in our Groebner Basis\n",
    "R.<s3,l4,b,c,s> = PolynomialRing(RR, order = 'lex')\n",
    "s3= polygen(R)\n",
    "z = s3^2*l4^2 - 2.00000000000000*s3^2*l4*b*c + s3^2*b^2 - s3*l4^2*b*s + 2.00000000000000*s3*l4*b^2*c*s - s3*b^3*s + 0.250000000000000*l4^4 - l4^3*b*c - l4^2*b^2*s^2 + 1.50000000000000*l4^2*b^2 - l4^2 - l4*b^3*c + 2.00000000000000*l4*b*c + 0.250000000000000*b^4 + b^2*s^2 - b^2\n",
    "z.discriminant()\n"
   ]
  },
  {
   "cell_type": "code",
   "execution_count": 45,
   "metadata": {
    "scrolled": true
   },
   "outputs": [
    {
     "name": "stdout",
     "output_type": "stream",
     "text": [
      "If theta_1+theta_2+theta_3 = 0, Groebner basis is equal to\n",
      "c1 + c3 + l4 - b\n",
      " \n",
      "s1 - s3 + a\n",
      " \n",
      "c2 - 0.500000000000000*l4^2 + l4*b - 0.500000000000000*a^2 - 0.500000000000000*b^2 + 1.00000000000000\n",
      " \n",
      "s2 - c3*a - s3*l4 + s3*b\n",
      " \n",
      "c3^2 + s3^2 - 1.00000000000000\n",
      " \n",
      "c3*s3*a - 0.500000000000000*c3*a^2 + s3^2*l4 - s3^2*b - 0.500000000000000*s3*l4*a + 0.500000000000000*s3*a*b + 0.250000000000000*l4^3 - 0.750000000000000*l4^2*b + 0.250000000000000*l4*a^2 + 0.750000000000000*l4*b^2 - l4 - 0.250000000000000*a^2*b - 0.250000000000000*b^3 + b\n",
      " \n",
      "c3*l4 - c3*b - s3*a + 0.500000000000000*l4^2 - l4*b + 0.500000000000000*a^2 + 0.500000000000000*b^2\n",
      " \n",
      "s3^2*l4^2 - 2.00000000000000*s3^2*l4*b + s3^2*a^2 + s3^2*b^2 - s3*l4^2*a + 2.00000000000000*s3*l4*a*b - s3*a^3 - s3*a*b^2 + 0.250000000000000*l4^4 - l4^3*b + 0.500000000000000*l4^2*a^2 + 1.50000000000000*l4^2*b^2 - l4^2 - l4*a^2*b - l4*b^3 + 2.00000000000000*l4*b + 0.250000000000000*a^4 + 0.500000000000000*a^2*b^2 + 0.250000000000000*b^4 - b^2\n",
      " \n"
     ]
    }
   ],
   "source": [
    "#Determine the Groebner Basis in the case that theta=theta_1+theta_2+theta_3=0\n",
    "R.<c1,s1,c2,s2,c3,s3,l4,a,b> = PolynomialRing(RR, order = 'lex')\n",
    "# s is sine of theta\n",
    "# c is cosine of theta\n",
    "# b is vertical y-coordinate given a=0\n",
    "\n",
    "J = ideal(c1*c2*c3-s1*s2*c3-s1*c2*s3-c1*s2*s3-1,\\\n",
    "          s1*c2*c3+c1*s2*c3+c1*c2*s3-s1*s2*s3-0,\\\n",
    "          c1^2+s1^2-1, c2^2+s2^2-1, c3^2+s3^2-1,\\\n",
    "          l4*(s1*c2*c3+c1*s2*c3+c1*c2*s3-s1*s2*s3)+c1*s2+s1*c2+s1+a,\\\n",
    "          l4*(c1*c2*c3-c1*s2*s3-s1*c2*s3-s1*s2*c3)+c1*c2-s1*s2+c1-b)\n",
    "       \n",
    "C = J.groebner_basis()\n",
    "print(\"If theta_1+theta_2+theta_3 = 0, Groebner basis is equal to\")\n",
    "for x in C:\n",
    "    print(x)\n",
    "    print(\" \")"
   ]
  },
  {
   "cell_type": "code",
   "execution_count": 44,
   "metadata": {},
   "outputs": [
    {
     "data": {
      "text/plain": [
       "(-l4^4 + 4.00000000000000*l4^3*b - l4^2*a^2 - 6.00000000000000*l4^2*b^2 + 2.00000000000000*l4*a^2*b + 4.00000000000000*l4*b^3 - a^2*b^2 - b^4,\n",
       " 0)"
      ]
     },
     "execution_count": 44,
     "metadata": {},
     "output_type": "execute_result"
    }
   ],
   "source": [
    "#Determine the discriminant of the last polynomial which is a quadratic equation is s3\n",
    "R.<s3,l4,a,b> = PolynomialRing(RR, order = 'lex')\n",
    "s3 = polygen(R)\n",
    "y = s3^2*l4^2 - 2.00000000000000*s3^2*l4*b + s3^2*a^2 + s3^2*b^2 - s3*l4^2*a + 2.00000000000000*s3*l4*a*b - s3*a^3 - s3*a*b^2 + 0.250000000000000*l4^4 - l4^3*b + 0.500000000000000*l4^2*a^2 + 1.50000000000000*l4^2*b^2 - l4^2 - l4*a^2*b - l4*b^3 + 2.00000000000000*l4*b + 0.250000000000000*a^4 + 0.500000000000000*a^2*b^2 + 0.250000000000000*b^4 - b^2\n",
    "f = y.discriminant()\n",
    "#Trying to factor the discriminant.\n",
    "g= a^2+(l4-b)^2-4\n",
    "f.quo_rem(g)"
   ]
  },
  {
   "cell_type": "code",
   "execution_count": 113,
   "metadata": {},
   "outputs": [
    {
     "data": {
      "text/plain": [
       "(-l4^2 + 2.00000000000000*l4*b - b^2, 0)"
      ]
     },
     "execution_count": 113,
     "metadata": {},
     "output_type": "execute_result"
    }
   ],
   "source": [
    "#Factorising the discriminant even further\n",
    "h = -l4^4 + 4.00000000000000*l4^3*b - l4^2*a^2 - 6.00000000000000*l4^2*b^2 + 2.00000000000000*l4*a^2*b + 4.00000000000000*l4*b^3 - a^2*b^2 - b^4\n",
    "p = a^2+(l4-b)^2\n",
    "h.quo_rem(p)"
   ]
  },
  {
   "cell_type": "code",
   "execution_count": 46,
   "metadata": {},
   "outputs": [
    {
     "name": "stdout",
     "output_type": "stream",
     "text": [
      "c1 - c2*c3 + s2*s3\n",
      " \n",
      "s1 + c2*s3 + s2*c3\n",
      " \n",
      "c2^2 + s2^2 - 1.00000000000000\n",
      " \n",
      "c2*c3*l3 + c2*l4 - c2*b + s2*s3*l3 - s2*a + c3*l2\n",
      " \n",
      "c2*c3*l4 - c2*c3*b - c2*s3*a + c2*l3 - s2*c3*a - s2*s3*l4 + s2*s3*b + l2\n",
      " \n",
      "c2*c3*a + c2*s3*l4 - c2*s3*b + s2*c3*l4 - s2*c3*b - s2*s3*a + s2*l3\n",
      " \n",
      "c2*s3*l3 - c2*a - s2*c3*l3 - s2*l4 + s2*b + s3*l2\n",
      " \n",
      "c2*s3*l4^2 - 2.00000000000000*c2*s3*l4*b + c2*s3*a^2 + c2*s3*b^2 - c2*l3*a + s2*c3*l4^2 - 2.00000000000000*s2*c3*l4*b + s2*c3*a^2 + s2*c3*b^2 + s2*l3*l4 - s2*l3*b - l2*a\n",
      " \n",
      "c2*l3^2 - c2*l4^2 + 2.00000000000000*c2*l4*b - c2*a^2 - c2*b^2 - 2.00000000000000*s2*c3*l3*a - 2.00000000000000*s2*s3*l3*l4 + 2.00000000000000*s2*s3*l3*b - c3*l2*l4 + c3*l2*b + s3*l2*a + l3*l2\n",
      " \n",
      "c2*l2 + c3*l4 - c3*b - s3*a + l3\n",
      " \n",
      "s2*c3*l4^3 - 3.00000000000000*s2*c3*l4^2*b + s2*c3*l4*a^2 + 3.00000000000000*s2*c3*l4*b^2 - s2*c3*a^2*b - s2*c3*b^3 - 2.00000000000000*s2*s3^2*l3*l4^2 + 4.00000000000000*s2*s3^2*l3*l4*b - 2.00000000000000*s2*s3^2*l3*a^2 - 2.00000000000000*s2*s3^2*l3*b^2 + 2.00000000000000*s2*s3*l3^2*a + s2*s3*l4^2*a - 2.00000000000000*s2*s3*l4*a*b + s2*s3*a^3 + s2*s3*a*b^2 - 0.500000000000000*s2*l3^3 + 1.50000000000000*s2*l3*l4^2 - 3.00000000000000*s2*l3*l4*b - 0.500000000000000*s2*l3*a^2 + 1.50000000000000*s2*l3*b^2 - c3*s3*l2*l4^2 + 2.00000000000000*c3*s3*l2*l4*b - c3*s3*l2*a^2 - c3*s3*l2*b^2 + 0.500000000000000*c3*l3*l2*a + 0.500000000000000*s3*l3*l2*l4 - 0.500000000000000*s3*l3*l2*b - l2*l4*a + l2*a*b\n",
      " \n",
      "s2*l2 - c3*a - s3*l4 + s3*b\n",
      " \n",
      "c3^2 + s3^2 - 1.00000000000000\n",
      " \n",
      "c3*s3*l3*a - 0.500000000000000*c3*l3^2 + 0.500000000000000*c3*l2^2 - 0.500000000000000*c3*l4^2 + c3*l4*b - 0.500000000000000*c3*a^2 - 0.500000000000000*c3*b^2 + s3^2*l3*l4 - s3^2*l3*b - l3*l4 + l3*b\n",
      " \n",
      "c3*l3*l4 - c3*l3*b - s3*l3*a + 0.500000000000000*l3^2 - 0.500000000000000*l2^2 + 0.500000000000000*l4^2 - l4*b + 0.500000000000000*a^2 + 0.500000000000000*b^2\n",
      " \n",
      "c3*l2^2*l4 - c3*l2^2*b - c3*l4^3 + 3.00000000000000*c3*l4^2*b - c3*l4*a^2 - 3.00000000000000*c3*l4*b^2 + c3*a^2*b + c3*b^3 + 2.00000000000000*s3^2*l3*l4^2 - 4.00000000000000*s3^2*l3*l4*b + 2.00000000000000*s3^2*l3*a^2 + 2.00000000000000*s3^2*l3*b^2 - 2.00000000000000*s3*l3^2*a + s3*l2^2*a - s3*l4^2*a + 2.00000000000000*s3*l4*a*b - s3*a^3 - s3*a*b^2 + 0.500000000000000*l3^3 - 0.500000000000000*l3*l2^2 - 1.50000000000000*l3*l4^2 + 3.00000000000000*l3*l4*b + 0.500000000000000*l3*a^2 - 1.50000000000000*l3*b^2\n",
      " \n",
      "s3^2*l3^2*l4^2 - 2.00000000000000*s3^2*l3^2*l4*b + s3^2*l3^2*a^2 + s3^2*l3^2*b^2 - s3*l3^3*a + s3*l3*l2^2*a - s3*l3*l4^2*a + 2.00000000000000*s3*l3*l4*a*b - s3*l3*a^3 - s3*l3*a*b^2 + 0.250000000000000*l3^4 - 0.500000000000000*l3^2*l2^2 - 0.500000000000000*l3^2*l4^2 + l3^2*l4*b + 0.500000000000000*l3^2*a^2 - 0.500000000000000*l3^2*b^2 + 0.250000000000000*l2^4 - 0.500000000000000*l2^2*l4^2 + l2^2*l4*b - 0.500000000000000*l2^2*a^2 - 0.500000000000000*l2^2*b^2 + 0.250000000000000*l4^4 - l4^3*b + 0.500000000000000*l4^2*a^2 + 1.50000000000000*l4^2*b^2 - l4*a^2*b - l4*b^3 + 0.250000000000000*a^4 + 0.500000000000000*a^2*b^2 + 0.250000000000000*b^4\n",
      " \n"
     ]
    }
   ],
   "source": [
    "#What happens if all the lengths are variable?\n",
    "R.<c1,s1,c2,s2,c3,s3,l3,l2,l4,a,b,c,s> = PolynomialRing(RR, order = 'lex')\n",
    "# s is sine of theta\n",
    "# c is cosine of theta\n",
    "# b is vertical y-coordinate given a=0\n",
    "\n",
    "J = ideal(c1*c2*c3-s1*s2*c3-s1*c2*s3-c1*s2*s3-1,\\\n",
    "          s1*c2*c3+c1*s2*c3+c1*c2*s3-s1*s2*s3-0,\\\n",
    "          c1^2+s1^2-1, c2^2+s2^2-1, c3^2+s3^2-1,\\\n",
    "          l4*(s1*c2*c3+c1*s2*c3+c1*c2*s3-s1*s2*s3)+l3*(c1*s2+s1*c2)+l2*s1+a,\\\n",
    "          l4*(c1*c2*c3-c1*s2*s3-s1*c2*s3-s1*s2*c3)+l3*(c1*c2-s1*s2)+l2*c1-b)\n",
    "       \n",
    "C = J.groebner_basis()\n",
    "for x in C:\n",
    "    print(x)\n",
    "    print(\" \")"
   ]
  },
  {
   "cell_type": "code",
   "execution_count": 49,
   "metadata": {},
   "outputs": [
    {
     "data": {
      "text/plain": [
       "-l3^6*l4^2 + 2.00000000000000*l3^6*l4*b - l3^6*b^2 + 2.00000000000000*l3^4*l2^2*l4^2 - 4.00000000000000*l3^4*l2^2*l4*b + 2.00000000000000*l3^4*l2^2*b^2 + 2.00000000000000*l3^4*l4^4 - 8.00000000000000*l3^4*l4^3*b + 2.00000000000000*l3^4*l4^2*a^2 + 12.0000000000000*l3^4*l4^2*b^2 - 4.00000000000000*l3^4*l4*a^2*b - 8.00000000000000*l3^4*l4*b^3 + 2.00000000000000*l3^4*a^2*b^2 + 2.00000000000000*l3^4*b^4 - l3^2*l2^4*l4^2 + 2.00000000000000*l3^2*l2^4*l4*b - l3^2*l2^4*b^2 + 2.00000000000000*l3^2*l2^2*l4^4 - 8.00000000000000*l3^2*l2^2*l4^3*b + 2.00000000000000*l3^2*l2^2*l4^2*a^2 + 12.0000000000000*l3^2*l2^2*l4^2*b^2 - 4.00000000000000*l3^2*l2^2*l4*a^2*b - 8.00000000000000*l3^2*l2^2*l4*b^3 + 2.00000000000000*l3^2*l2^2*a^2*b^2 + 2.00000000000000*l3^2*l2^2*b^4 - l3^2*l4^6 + 6.00000000000000*l3^2*l4^5*b - 2.00000000000000*l3^2*l4^4*a^2 - 15.0000000000000*l3^2*l4^4*b^2 + 8.00000000000000*l3^2*l4^3*a^2*b + 20.0000000000000*l3^2*l4^3*b^3 - l3^2*l4^2*a^4 - 12.0000000000000*l3^2*l4^2*a^2*b^2 - 15.0000000000000*l3^2*l4^2*b^4 + 2.00000000000000*l3^2*l4*a^4*b + 8.00000000000000*l3^2*l4*a^2*b^3 + 6.00000000000000*l3^2*l4*b^5 - l3^2*a^4*b^2 - 2.00000000000000*l3^2*a^2*b^4 - l3^2*b^6"
      ]
     },
     "execution_count": 49,
     "metadata": {},
     "output_type": "execute_result"
    }
   ],
   "source": [
    "R.<s3,l3,l2,l4,a,b,c,s> = PolynomialRing(RR, order = 'lex')\n",
    "s3 = polygen(R)\n",
    "y = s3^2*l3^2*l4^2 - 2.00000000000000*s3^2*l3^2*l4*b + s3^2*l3^2*a^2 + s3^2*l3^2*b^2 - s3*l3^3*a + s3*l3*l2^2*a - s3*l3*l4^2*a + 2.00000000000000*s3*l3*l4*a*b - s3*l3*a^3 - s3*l3*a*b^2 + 0.250000000000000*l3^4 - 0.500000000000000*l3^2*l2^2 - 0.500000000000000*l3^2*l4^2 + l3^2*l4*b + 0.500000000000000*l3^2*a^2 - 0.500000000000000*l3^2*b^2 + 0.250000000000000*l2^4 - 0.500000000000000*l2^2*l4^2 + l2^2*l4*b - 0.500000000000000*l2^2*a^2 - 0.500000000000000*l2^2*b^2 + 0.250000000000000*l4^4 - l4^3*b + 0.500000000000000*l4^2*a^2 + 1.50000000000000*l4^2*b^2 - l4*a^2*b - l4*b^3 + 0.250000000000000*a^4 + 0.500000000000000*a^2*b^2 + 0.250000000000000*b^4\n",
    "y.discriminant()"
   ]
  },
  {
   "cell_type": "code",
   "execution_count": null,
   "metadata": {},
   "outputs": [],
   "source": []
  }
 ],
 "metadata": {
  "kernelspec": {
   "display_name": "SageMath 9.3",
   "language": "sage",
   "name": "sagemath"
  },
  "language_info": {
   "codemirror_mode": {
    "name": "ipython",
    "version": 3
   },
   "file_extension": ".py",
   "mimetype": "text/x-python",
   "name": "python",
   "nbconvert_exporter": "python",
   "pygments_lexer": "ipython3",
   "version": "3.7.10"
  }
 },
 "nbformat": 4,
 "nbformat_minor": 4
}
